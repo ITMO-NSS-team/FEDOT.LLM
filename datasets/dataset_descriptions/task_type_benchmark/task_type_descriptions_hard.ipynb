{
 "cells": [
  {
   "cell_type": "code",
   "execution_count": 1,
   "metadata": {},
   "outputs": [],
   "source": [
    "big_descriptions = {}"
   ]
  },
  {
   "cell_type": "code",
   "execution_count": 2,
   "metadata": {},
   "outputs": [],
   "source": [
    "dataset_name = \"bike_sharing\"\n",
    "big_descriptions[dataset_name] = {}\n",
    "big_descriptions[dataset_name][\"name\"] = dataset_name\n",
    "big_descriptions[dataset_name][\"source\"] = 'uci'\n",
    "big_descriptions[dataset_name][\"type\"] = 'regression'\n",
    "big_descriptions[dataset_name][\"url\"] = 'https://archive.ics.uci.edu/dataset/275/bike+sharing+dataset'\n",
    "big_descriptions[dataset_name][\"id\"] = '275'\n",
    "big_descriptions[dataset_name][\"description\"] =  \"\"\"\n",
    "This dataset contains the hourly and daily count of rental bikes between years 2011 and 2012 in Capital bikeshare system with the corresponding weather and seasonal information.\n",
    "\"\"\""
   ]
  },
  {
   "cell_type": "code",
   "execution_count": 3,
   "metadata": {},
   "outputs": [],
   "source": [
    "dataset_name = \"auto_mpg\"\n",
    "big_descriptions[dataset_name] = {}\n",
    "big_descriptions[dataset_name][\"name\"] = dataset_name\n",
    "big_descriptions[dataset_name][\"source\"] = 'uci'\n",
    "big_descriptions[dataset_name][\"type\"] = 'regression'\n",
    "big_descriptions[dataset_name][\"url\"] = 'https://archive.ics.uci.edu/dataset/9/auto+mpg'\n",
    "big_descriptions[dataset_name][\"id\"] = '9'\n",
    "big_descriptions[dataset_name][\"description\"] =  \"\"\"\n",
    "Revised from CMU StatLib library, data concerns city-cycle fuel consumption\n",
    "This dataset is a slightly modified version of the dataset provided in the StatLib library.  In line with the use by Ross Quinlan (1993) in predicting the attribute \"mpg\", 8 of the original instances were removed because they had unknown values for the \"mpg\" attribute.  The original dataset is available in the file \"auto-mpg.data-original\".\n",
    "\"The data concerns city-cycle fuel consumption in miles per gallon, to be predicted in terms of 3 multivalued discrete and 5 continuous attributes.\" (Quinlan, 1993)\n",
    "\"\"\""
   ]
  },
  {
   "cell_type": "code",
   "execution_count": 4,
   "metadata": {},
   "outputs": [],
   "source": [
    "dataset_name = \"abalone\"\n",
    "big_descriptions[dataset_name] = {}\n",
    "big_descriptions[dataset_name][\"name\"] = dataset_name\n",
    "big_descriptions[dataset_name][\"source\"] = 'uci'\n",
    "big_descriptions[dataset_name][\"type\"] = 'regression'\n",
    "big_descriptions[dataset_name][\"url\"] = 'https://archive.ics.uci.edu/dataset/1/abalone'\n",
    "big_descriptions[dataset_name][\"id\"] = '1'\n",
    "big_descriptions[dataset_name][\"description\"] =  \"\"\"\n",
    "The age of abalone is determined by cutting the shell through the cone, staining it, and counting the number of rings through a microscope -- a boring and time-consuming task.  Other measurements, which are easier to obtain, are used to predict the age.  Further information, such as weather patterns and location (hence food availability) may be required to solve the problem.\n",
    "\n",
    "From the original data examples with missing values were removed (the majority having the predicted value missing), and the ranges of the continuous values have been scaled for use with an ANN (by dividing by 200).\n",
    "\"\"\""
   ]
  },
  {
   "cell_type": "code",
   "execution_count": 5,
   "metadata": {},
   "outputs": [],
   "source": [
    "dataset_name = \"forest_fires\"\n",
    "big_descriptions[dataset_name] = {}\n",
    "big_descriptions[dataset_name][\"name\"] = dataset_name\n",
    "big_descriptions[dataset_name][\"source\"] = 'uci'\n",
    "big_descriptions[dataset_name][\"type\"] = 'regression'\n",
    "big_descriptions[dataset_name][\"url\"] = 'https://archive.ics.uci.edu/dataset/162/forest+fires'\n",
    "big_descriptions[dataset_name][\"id\"] = '162'\n",
    "big_descriptions[dataset_name][\"description\"] =  \"\"\"\n",
    "Data on area of forest fires in the northeast region of Portugal, including meteorological and other data.\n",
    "\"\"\""
   ]
  },
  {
   "cell_type": "code",
   "execution_count": 6,
   "metadata": {},
   "outputs": [],
   "source": [
    "dataset_name = \"liver_disorders\"\n",
    "big_descriptions[dataset_name] = {}\n",
    "big_descriptions[dataset_name][\"name\"] = dataset_name\n",
    "big_descriptions[dataset_name][\"source\"] = 'uci'\n",
    "big_descriptions[dataset_name][\"type\"] = 'regression'\n",
    "big_descriptions[dataset_name][\"url\"] = 'https://archive.ics.uci.edu/dataset/60/liver+disorders'\n",
    "big_descriptions[dataset_name][\"id\"] = '60'\n",
    "big_descriptions[dataset_name][\"description\"] =  \"\"\"\n",
    "The first 5 variables are all blood tests which are thought to be sensitive to liver disorders that might arise from excessive alcohol consumption. Each line in the dataset constitutes the record of a single male individual.\n",
    "\n",
    "Important note: The 7th field (selector) has been widely misinterpreted in the past as a dependent variable representing presence or absence of a liver disorder. This is incorrect [1]. The 7th field was created by BUPA researchers as a train/test selector. It is not suitable as a dependent variable for classification. The dataset does not contain any variable representing presence or absence of a liver disorder. Researchers who wish to use this dataset as a classification benchmark should follow the method used in experiments by the donor (Forsyth & Rada, 1986, Machine learning: applications in expert systems and information retrieval) and others (e.g. Turney, 1995, Cost-sensitive classification: Empirical evaluation of a hybrid genetic decision tree induction algorithm), who used the 6th field (drinks), after dichotomising, as a dependent variable for classification. Because of widespread misinterpretation in the past, researchers should take care to state their method clearly.\n",
    "\"\"\""
   ]
  },
  {
   "cell_type": "code",
   "execution_count": 7,
   "metadata": {},
   "outputs": [],
   "source": [
    "dataset_name = \"rice_cammeo_and_osmancik\"\n",
    "big_descriptions[dataset_name] = {}\n",
    "big_descriptions[dataset_name][\"name\"] = dataset_name\n",
    "big_descriptions[dataset_name][\"source\"] = 'uci'\n",
    "big_descriptions[dataset_name][\"type\"] = 'classification'\n",
    "big_descriptions[dataset_name][\"url\"] = 'https://archive.ics.uci.edu/dataset/545/rice+cammeo+and+osmancik'\n",
    "big_descriptions[dataset_name][\"id\"] = '545'\n",
    "big_descriptions[dataset_name][\"description\"] =  \"\"\"\n",
    "Among the certified rice grown in TURKEY,  the  Osmancik species, which has a large planting area since 1997 and the Cammeo species grown since 2014 have been selected for the study.  When  looking  at  the  general  characteristics  of  Osmancik species, they have a wide, long, glassy and dull appearance.  When looking at the general characteristics of the Cammeo species, they have wide and long, glassy and dull in appearance.  A total of 3810 rice grain's images were taken for the two species, processed and feature inferences were made. 7 morphological features were obtained for each grain of rice. \n",
    "\"\"\""
   ]
  },
  {
   "cell_type": "code",
   "execution_count": 8,
   "metadata": {},
   "outputs": [],
   "source": [
    "dataset_name = \"steel_industry_energy_consumption\"\n",
    "big_descriptions[dataset_name] = {}\n",
    "big_descriptions[dataset_name][\"name\"] = dataset_name\n",
    "big_descriptions[dataset_name][\"source\"] = 'uci'\n",
    "big_descriptions[dataset_name][\"type\"] = 'classification'\n",
    "big_descriptions[dataset_name][\"url\"] = 'https://archive.ics.uci.edu/dataset/851/steel+industry+energy+consumption'\n",
    "big_descriptions[dataset_name][\"id\"] = '851'\n",
    "big_descriptions[dataset_name][\"description\"] =  \"\"\"\n",
    "The information gathered is from the DAEWOO Steel Co. Ltd in Gwangyang, South Korea. It produces several types of coils, steel plates, and iron plates. The information on electricity consumption is held in a cloud-based system. The information on energy consumption of the industry is stored on the website of the Korea Electric Power Corporation (pccs.kepco.go.kr), and the perspectives on daily, monthly, and annual data are calculated and shown.\n",
    "\"\"\""
   ]
  },
  {
   "cell_type": "code",
   "execution_count": 9,
   "metadata": {},
   "outputs": [],
   "source": [
    "dataset_name = \"credit_g\"\n",
    "big_descriptions[dataset_name] = {}\n",
    "big_descriptions[dataset_name][\"name\"] = dataset_name\n",
    "big_descriptions[dataset_name][\"source\"] = 'openml'\n",
    "big_descriptions[dataset_name][\"type\"] = 'classification'\n",
    "big_descriptions[dataset_name][\"url\"] = 'https://www.openml.org/d/31'\n",
    "big_descriptions[dataset_name][\"id\"] = '31'\n",
    "big_descriptions[dataset_name][\"description\"] =  \"\"\"\n",
    "This dataset contains a set of attributes of credit risks for each customer.\n",
    "\"\"\""
   ]
  },
  {
   "cell_type": "code",
   "execution_count": 10,
   "metadata": {},
   "outputs": [],
   "source": [
    "dataset_name = \"titanic\"\n",
    "big_descriptions[dataset_name] = {}\n",
    "big_descriptions[dataset_name][\"name\"] = dataset_name\n",
    "big_descriptions[dataset_name][\"source\"] = 'openml'\n",
    "big_descriptions[dataset_name][\"type\"] = 'classification'\n",
    "big_descriptions[dataset_name][\"url\"] = 'https://www.openml.org/d/40945'\n",
    "big_descriptions[dataset_name][\"id\"] = '40945'\n",
    "big_descriptions[dataset_name][\"description\"] =  \"\"\"\n",
    "The original Titanic dataset, describing the survival status of individual passengers on the Titanic.\n",
    "\"\"\""
   ]
  },
  {
   "cell_type": "code",
   "execution_count": 11,
   "metadata": {},
   "outputs": [],
   "source": [
    "dataset_name = \"dry_bean_dataset\"\n",
    "big_descriptions[dataset_name] = {}\n",
    "big_descriptions[dataset_name][\"name\"] = dataset_name\n",
    "big_descriptions[dataset_name][\"source\"] = 'uci'\n",
    "big_descriptions[dataset_name][\"type\"] = 'classification'\n",
    "big_descriptions[dataset_name][\"url\"] = 'https://archive.ics.uci.edu/dataset/602/dry+bean+dataset'\n",
    "big_descriptions[dataset_name][\"id\"] = '602'\n",
    "big_descriptions[dataset_name][\"description\"] =  \"\"\"\n",
    "Images of 13,611 grains of 7 different registered dry beans were taken with a high-resolution camera. A total of 16 features; 12 dimensions and 4 shape forms, were obtained from the grains.\n",
    "\"\"\""
   ]
  },
  {
   "cell_type": "code",
   "execution_count": 12,
   "metadata": {},
   "outputs": [],
   "source": [
    "big_descriptions = [big_descriptions[key] for key in big_descriptions]"
   ]
  },
  {
   "cell_type": "code",
   "execution_count": 13,
   "metadata": {},
   "outputs": [
    {
     "data": {
      "text/plain": [
       "[{'name': 'bike_sharing',\n",
       "  'source': 'uci',\n",
       "  'type': 'regression',\n",
       "  'url': 'https://archive.ics.uci.edu/dataset/275/bike+sharing+dataset',\n",
       "  'id': '275',\n",
       "  'description': '\\nThis dataset contains the hourly and daily count of rental bikes between years 2011 and 2012 in Capital bikeshare system with the corresponding weather and seasonal information.\\n'},\n",
       " {'name': 'auto_mpg',\n",
       "  'source': 'uci',\n",
       "  'type': 'regression',\n",
       "  'url': 'https://archive.ics.uci.edu/dataset/9/auto+mpg',\n",
       "  'id': '9',\n",
       "  'description': '\\nRevised from CMU StatLib library, data concerns city-cycle fuel consumption\\nThis dataset is a slightly modified version of the dataset provided in the StatLib library.  In line with the use by Ross Quinlan (1993) in predicting the attribute \"mpg\", 8 of the original instances were removed because they had unknown values for the \"mpg\" attribute.  The original dataset is available in the file \"auto-mpg.data-original\".\\n\"The data concerns city-cycle fuel consumption in miles per gallon, to be predicted in terms of 3 multivalued discrete and 5 continuous attributes.\" (Quinlan, 1993)\\n'},\n",
       " {'name': 'abalone',\n",
       "  'source': 'uci',\n",
       "  'type': 'regression',\n",
       "  'url': 'https://archive.ics.uci.edu/dataset/1/abalone',\n",
       "  'id': '1',\n",
       "  'description': '\\nThe age of abalone is determined by cutting the shell through the cone, staining it, and counting the number of rings through a microscope -- a boring and time-consuming task.  Other measurements, which are easier to obtain, are used to predict the age.  Further information, such as weather patterns and location (hence food availability) may be required to solve the problem.\\n\\nFrom the original data examples with missing values were removed (the majority having the predicted value missing), and the ranges of the continuous values have been scaled for use with an ANN (by dividing by 200).\\n'},\n",
       " {'name': 'forest_fires',\n",
       "  'source': 'uci',\n",
       "  'type': 'regression',\n",
       "  'url': 'https://archive.ics.uci.edu/dataset/162/forest+fires',\n",
       "  'id': '162',\n",
       "  'description': '\\nData on area of forest fires in the northeast region of Portugal, including meteorological and other data.\\n'},\n",
       " {'name': 'liver_disorders',\n",
       "  'source': 'uci',\n",
       "  'type': 'regression',\n",
       "  'url': 'https://archive.ics.uci.edu/dataset/60/liver+disorders',\n",
       "  'id': '60',\n",
       "  'description': '\\nThe first 5 variables are all blood tests which are thought to be sensitive to liver disorders that might arise from excessive alcohol consumption. Each line in the dataset constitutes the record of a single male individual.\\n\\nImportant note: The 7th field (selector) has been widely misinterpreted in the past as a dependent variable representing presence or absence of a liver disorder. This is incorrect [1]. The 7th field was created by BUPA researchers as a train/test selector. It is not suitable as a dependent variable for classification. The dataset does not contain any variable representing presence or absence of a liver disorder. Researchers who wish to use this dataset as a classification benchmark should follow the method used in experiments by the donor (Forsyth & Rada, 1986, Machine learning: applications in expert systems and information retrieval) and others (e.g. Turney, 1995, Cost-sensitive classification: Empirical evaluation of a hybrid genetic decision tree induction algorithm), who used the 6th field (drinks), after dichotomising, as a dependent variable for classification. Because of widespread misinterpretation in the past, researchers should take care to state their method clearly.\\n'},\n",
       " {'name': 'rice_cammeo_and_osmancik',\n",
       "  'source': 'uci',\n",
       "  'type': 'classification',\n",
       "  'url': 'https://archive.ics.uci.edu/dataset/545/rice+cammeo+and+osmancik',\n",
       "  'id': '545',\n",
       "  'description': \"\\nAmong the certified rice grown in TURKEY,  the  Osmancik species, which has a large planting area since 1997 and the Cammeo species grown since 2014 have been selected for the study.  When  looking  at  the  general  characteristics  of  Osmancik species, they have a wide, long, glassy and dull appearance.  When looking at the general characteristics of the Cammeo species, they have wide and long, glassy and dull in appearance.  A total of 3810 rice grain's images were taken for the two species, processed and feature inferences were made. 7 morphological features were obtained for each grain of rice. \\n\"},\n",
       " {'name': 'steel_industry_energy_consumption',\n",
       "  'source': 'uci',\n",
       "  'type': 'classification',\n",
       "  'url': 'https://archive.ics.uci.edu/dataset/851/steel+industry+energy+consumption',\n",
       "  'id': '851',\n",
       "  'description': '\\nThe information gathered is from the DAEWOO Steel Co. Ltd in Gwangyang, South Korea. It produces several types of coils, steel plates, and iron plates. The information on electricity consumption is held in a cloud-based system. The information on energy consumption of the industry is stored on the website of the Korea Electric Power Corporation (pccs.kepco.go.kr), and the perspectives on daily, monthly, and annual data are calculated and shown.\\n'},\n",
       " {'name': 'credit_g',\n",
       "  'source': 'openml',\n",
       "  'type': 'classification',\n",
       "  'url': 'https://www.openml.org/d/31',\n",
       "  'id': '31',\n",
       "  'description': '\\nThis dataset contains a set of attributes of credit risks for each customer.\\n'},\n",
       " {'name': 'titanic',\n",
       "  'source': 'openml',\n",
       "  'type': 'classification',\n",
       "  'url': 'https://www.openml.org/d/40945',\n",
       "  'id': '40945',\n",
       "  'description': '\\nThe original Titanic dataset, describing the survival status of individual passengers on the Titanic.\\n'},\n",
       " {'name': 'dry_bean_dataset',\n",
       "  'source': 'uci',\n",
       "  'type': 'classification',\n",
       "  'url': 'https://archive.ics.uci.edu/dataset/602/dry+bean+dataset',\n",
       "  'id': '602',\n",
       "  'description': '\\nImages of 13,611 grains of 7 different registered dry beans were taken with a high-resolution camera. A total of 16 features; 12 dimensions and 4 shape forms, were obtained from the grains.\\n'}]"
      ]
     },
     "execution_count": 13,
     "metadata": {},
     "output_type": "execute_result"
    }
   ],
   "source": [
    "big_descriptions"
   ]
  },
  {
   "cell_type": "code",
   "execution_count": 14,
   "metadata": {},
   "outputs": [],
   "source": [
    "import json\n",
    "with open('../datasets/dataset_descriptions/task_type_descriptions_hard.json', \"w\") as json_file:\n",
    "    json.dump(big_descriptions, json_file)"
   ]
  }
 ],
 "metadata": {
  "kernelspec": {
   "display_name": "automl",
   "language": "python",
   "name": "python3"
  },
  "language_info": {
   "codemirror_mode": {
    "name": "ipython",
    "version": 3
   },
   "file_extension": ".py",
   "mimetype": "text/x-python",
   "name": "python",
   "nbconvert_exporter": "python",
   "pygments_lexer": "ipython3",
   "version": "3.10.3"
  }
 },
 "nbformat": 4,
 "nbformat_minor": 2
}
